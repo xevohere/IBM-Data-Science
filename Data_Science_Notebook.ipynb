{
  "cells": [
    {
      "cell_type": "markdown",
      "id": "62f8ffd0",
      "metadata": {
        "id": "62f8ffd0"
      },
      "source": [
        "#Data Science Notebook"
      ]
    },
    {
      "cell_type": "markdown",
      "id": "5fffa057",
      "metadata": {
        "id": "5fffa057"
      },
      "source": [
        "## Introduction\n",
        "This notebook covers key elements of data science including languages, libraries, tools, and sample code."
      ]
    },
    {
      "cell_type": "markdown",
      "id": "ca6ec81a",
      "metadata": {
        "id": "ca6ec81a"
      },
      "source": [
        "## Data Science Languages\n",
        "- Python\n",
        "- R\n",
        "- SQL\n",
        "- Julia\n",
        "- Scala"
      ]
    },
    {
      "cell_type": "markdown",
      "id": "3b5aca29",
      "metadata": {
        "id": "3b5aca29"
      },
      "source": [
        "## Data Science Libraries\n",
        "- Pandas\n",
        "- NumPy\n",
        "- Matplotlib\n",
        "- Scikit-learn\n",
        "- TensorFlow"
      ]
    },
    {
      "cell_type": "markdown",
      "id": "52c02fbe",
      "metadata": {
        "id": "52c02fbe"
      },
      "source": [
        "## Data Science Tools\n",
        "\n",
        "| Tool          | Description                     |\n",
        "|---------------|----------------------------------|\n",
        "| Jupyter       | Interactive coding notebook     |\n",
        "| RStudio       | IDE for R                       |\n",
        "| Apache Spark  | Distributed computing framework |"
      ]
    },
    {
      "cell_type": "markdown",
      "id": "0877029a",
      "metadata": {
        "id": "0877029a"
      },
      "source": [
        "## Examples of Arithmetic Expressions\n",
        "Below are examples of basic arithmetic expressions using Python code."
      ]
    },
    {
      "cell_type": "code",
      "execution_count": null,
      "id": "330f1839",
      "metadata": {
        "id": "330f1839"
      },
      "outputs": [],
      "source": [
        "# Multiply and add numbers\n",
        "result = (5 * 4) + 10\n",
        "result"
      ]
    },
    {
      "cell_type": "code",
      "execution_count": null,
      "id": "5db7f9fd",
      "metadata": {
        "id": "5db7f9fd"
      },
      "outputs": [],
      "source": [
        "# Convert minutes to hours\n",
        "minutes = 150\n",
        "hours = minutes / 60\n",
        "hours"
      ]
    },
    {
      "cell_type": "markdown",
      "id": "c066ebc0",
      "metadata": {
        "id": "c066ebc0"
      },
      "source": [
        "## Objectives\n",
        "- List popular languages for Data Science\n",
        "- Introduce common libraries used in Data Science\n",
        "- Demonstrate simple arithmetic operations\n",
        "- Convert minutes into hours using Python"
      ]
    },
    {
      "cell_type": "markdown",
      "id": "133e6d84",
      "metadata": {
        "id": "133e6d84"
      },
      "source": [
        "## Author\n",
        "Alok Gupta"
      ]
    }
  ],
  "metadata": {
    "colab": {
      "provenance": []
    }
  },
  "nbformat": 4,
  "nbformat_minor": 5
}